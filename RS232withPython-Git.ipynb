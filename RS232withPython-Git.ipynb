{
 "cells": [
  {
   "cell_type": "markdown",
   "metadata": {},
   "source": [
    "Подключение через rs232-usb connector к мультиметру Protec506 (1200,None,7,2)"
   ]
  },
  {
   "cell_type": "code",
   "execution_count": 30,
   "metadata": {},
   "outputs": [
    {
     "name": "stdout",
     "output_type": "stream",
     "text": [
      "Ingresa el comando.rnInserta \"exit\" para salir de la aplicación\n",
      ">>b'D'b'C'b' 'b'0'b'.'b'3'b'1'b'8'b' 'b'V'b'\\r'b'D'b'C'b' 'b'0'b'.'b'0'b'7'b'8'b' 'b'V'b'\\r'\n"
     ]
    }
   ],
   "source": [
    "import time\n",
    "import serial\n",
    "from datetime import datetime\n",
    "\n",
    "try: \n",
    "    ser.close()\n",
    "except NameError: \n",
    "    pass\n",
    "ser = serial.Serial(\n",
    "port='COM4',\n",
    "baudrate=1200,\n",
    "parity=serial.PARITY_NONE,\n",
    "stopbits=serial.STOPBITS_TWO,\n",
    "bytesize=serial.SEVENBITS\n",
    ")\n",
    "\n",
    "print('Connection successfully')"
   ]
  },
  {
   "cell_type": "code",
   "execution_count": 78,
   "metadata": {},
   "outputs": [],
   "source": [
    "input=b\"DC -3 999 V\"\n",
    "input=b\"DC 399.9 mV\"\n",
    "input=b\"DC 3 999 V\""
   ]
  },
  {
   "cell_type": "code",
   "execution_count": 79,
   "metadata": {},
   "outputs": [
    {
     "name": "stdout",
     "output_type": "stream",
     "text": [
      ">>DC 1.628 V\n",
      ">>DC 1.628 V\n",
      ">>DC 1.629 V\n"
     ]
    }
   ],
   "source": [
    "if not ser.isOpen:\n",
    "    ser.open()\n",
    "num = 3\n",
    "with open('rs232.txt','a') as f:\n",
    "    for __ in range(num):\n",
    "        #time.sleep(1)\n",
    "        ser.write(input)\n",
    "        time.sleep(0.5)\n",
    "        out = ser.read_all().decode('utf-8')\n",
    "        print (\">>\" + out)\n",
    "        f.write(datetime.now().strftime(\"%Y-%m-%d-%H.%M.%S\")+' ' + out )"
   ]
  },
  {
   "cell_type": "code",
   "execution_count": null,
   "metadata": {},
   "outputs": [],
   "source": [
    "ser.close()"
   ]
  },
  {
   "cell_type": "code",
   "execution_count": null,
   "metadata": {},
   "outputs": [],
   "source": []
  },
  {
   "cell_type": "markdown",
   "metadata": {},
   "source": [
    "driver на w10 для коннектора\n",
    "\n",
    "https://www.chipdip.ru/product0/8450721133\n",
    "\n",
    "Мануал по мультиметру\n",
    "\n",
    "https://micro-pi.ru/%D1%83%D1%81%D1%82%D0%B0%D0%BD%D0%BE%D0%B2%D0%BA%D0%B0-%D0%B4%D1%80%D0%B0%D0%B9%D0%B2%D0%B5%D1%80%D0%B0-pl2303-windows-10-8/\n",
    "\n",
    "Точность мультика по мануалу на диапазон:\n",
    "на 400мВ    1,4мВ;\n",
    "на 4В  22мВ"
   ]
  },
  {
   "cell_type": "code",
   "execution_count": null,
   "metadata": {},
   "outputs": [],
   "source": []
  }
 ],
 "metadata": {
  "kernelspec": {
   "display_name": "Python 3",
   "language": "python",
   "name": "python3"
  },
  "language_info": {
   "codemirror_mode": {
    "name": "ipython",
    "version": 3
   },
   "file_extension": ".py",
   "mimetype": "text/x-python",
   "name": "python",
   "nbconvert_exporter": "python",
   "pygments_lexer": "ipython3",
   "version": "3.7.4"
  }
 },
 "nbformat": 4,
 "nbformat_minor": 2
}
