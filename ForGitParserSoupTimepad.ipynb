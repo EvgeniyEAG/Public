{
 "cells": [
  {
   "cell_type": "markdown",
   "metadata": {},
   "source": [
    "Перебирает мероприятия на TimePad.\n",
    "Команда TimePad обновила api, и сервис вцелом.\n",
    "get запросы указаные не исполняются \n",
    "код несет исключительно информационный характер как демонстрация методов BeautifulSoup.\n",
    "В комерческих целях не использовался."
   ]
  },
  {
   "cell_type": "code",
   "execution_count": null,
   "metadata": {},
   "outputs": [],
   "source": [
    "Запускалось на windows использовалась библиотека concurrent\n",
    "На линуксе удобно запускать в многопроцессорном режиме\n",
    "    from multiprocessing import Pool\n",
    "    number_processes=3\n",
    "    with Pool(number_processes) as p:\n",
    "        p.map(make_all2,all_links)\n"
   ]
  },
  {
   "cell_type": "code",
   "execution_count": null,
   "metadata": {},
   "outputs": [],
   "source": [
    "import csv\n",
    "from bs4 import BeautifulSoup\n",
    "import requests, re, pandas as pd\n",
    "from datetime import datetime\n",
    "\n"
   ]
  },
  {
   "cell_type": "code",
   "execution_count": null,
   "metadata": {},
   "outputs": [],
   "source": [
    "def get_page_data(html):\n",
    "    soup = BeautifulSoup(html, 'lxml')\n",
    "    k_back=soup.find('span', class_='ep3-pagesummary__time-short').text.strip()\n",
    "    temp=[]\n",
    "    if  not k_back.find('назад')+1:  #нет слова \"назад\" в дате - значит мероприятие еще не произошло\n",
    "        #город            #онлайн - без города\n",
    "        k=soup.find('span', class_='ep3-pagesummary__place-city')\n",
    "        temp.append(try_text_strip(k))\n",
    "\n",
    "        #адрес __time-begin\">\n",
    "        k=soup.find('div', class_='ep3-pagesummary__place-adress').find('span')\n",
    "        temp.append(try_text_strip(k))\n",
    "        \n",
    "        #date and время   __time-begin\"> \\xa0\n",
    "        k=soup.find('div', class_='ep3-pagesummary__time-begin').find('span').text.strip()\n",
    "        date=' '.join(re.findall(r'(\\d{1,2}\\s[А-я]+)',k))\n",
    "        time2=' - '.join(re.findall(r'(\\d{1,2}:\\d{2})',k))\n",
    "        temp.append(date)\n",
    "        temp.append(time2)\n",
    "        \n",
    "        #5время относительное  __time-short\"> \\xa0\n",
    "        temp.append(re.sub(\"\\xa0\", \" \",k_back))\n",
    "        \n",
    "        #краткое описание   shortdesc\n",
    "        k=soup.find('p', class_='ep3-pagesummary__shortdesc') #.text.strip()\n",
    "        temp.append(try_text_strip(k))\n",
    "\n",
    "        #организатор orgname\n",
    "        k=soup.find('div', class_='ep3-pagesummary__orgname').find('span') #.text.strip()\n",
    "        temp.append(try_text_strip(k))\n",
    "        \n",
    "        #номер оргов контакты и имя\n",
    "            \n",
    "    return temp \n",
    "\n",
    "def try_text_strip(k):\n",
    "        try:\n",
    "            return(re.sub(\"\\xa0\", \" \",k.text.strip()) )\n",
    "        except:\n",
    "            return ''"
   ]
  },
  {
   "cell_type": "code",
   "execution_count": null,
   "metadata": {},
   "outputs": [],
   "source": [
    "import sys\n",
    "def get_html(url,params={}):\n",
    "    try:\n",
    "        res=requests.get(url, params)    \n",
    "    except requests.exceptions.TooManyRedirects:\n",
    "        print('TooManyRedirects', i, len(data_pages),datetime.now() - timerStart)\n",
    "        return []\n",
    "    except:\n",
    "        print (sys.exc_info()[0], i, 'err')\n",
    "        return []\n",
    "    if res.status_code==200:\n",
    "        #print(res.status_code,url, len(res.content),sep='\\n')\n",
    "        #return get_data(re.sub(\" +\", \" \", res.text))\n",
    "        return re.sub(\" +\", \" \", res.text)\n",
    "    else:\n",
    "        print(res.status_code, url)\n",
    "        return []\n",
    "\n",
    "def write_excel(data):    \n",
    "    df=pd.DataFrame(data)\n",
    "    df.to_excel('T2.xlsx')\n",
    "  "
   ]
  },
  {
   "cell_type": "code",
   "execution_count": null,
   "metadata": {},
   "outputs": [],
   "source": [
    "import concurrent.futures\n",
    "\n",
    "def make_all_2(url):  #miltipricessig\n",
    "    global data_pages\n",
    "    html = get_html(url)     \n",
    "    t = get_page_data(html)    \n",
    "    t.append(url)\n",
    "    data_pages.append(t)\n",
    "    return t\n",
    "\n",
    "timerStart = datetime.now()\n",
    "data_pages=[]\n",
    "\n",
    "api_url='http://timepad.ru/event/'\n",
    "k=1025381\n",
    "all_links=[api_url+str(k+i) for i in range(150)]\n",
    "\n",
    "number_processes=30\n",
    "with concurrent.futures.ThreadPoolExecutor(number_processes) as executor:        \n",
    "    #futures2=executor.map(make_all_2,all_links)    #1 варик\n",
    "    futures2 = [executor.submit(make_all_2,k) for k in all_links]  #2ой варик\n",
    "    concurrent.futures.wait(futures2)    \n",
    " \n",
    "write_excel(data_pages)\n",
    "\n",
    "print ( datetime.now()- timerStart) \n"
   ]
  }
 ],
 "metadata": {
  "kernelspec": {
   "display_name": "Python 3",
   "language": "python",
   "name": "python3"
  },
  "language_info": {
   "codemirror_mode": {
    "name": "ipython",
    "version": 3
   },
   "file_extension": ".py",
   "mimetype": "text/x-python",
   "name": "python",
   "nbconvert_exporter": "python",
   "pygments_lexer": "ipython3",
   "version": "3.6.0"
  }
 },
 "nbformat": 4,
 "nbformat_minor": 2
}
